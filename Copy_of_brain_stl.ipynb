{
  "nbformat": 4,
  "nbformat_minor": 0,
  "metadata": {
    "colab": {
      "provenance": [],
      "collapsed_sections": [
        "I--4RkG9I1kT",
        "3FdwYwc5NRoR",
        "Xq4h4HfxNX-l",
        "M3VGYH6LNjFf",
        "FQ7hcCX7Ni_H",
        "-lasWOtYNiw_"
      ],
      "include_colab_link": true
    },
    "kernelspec": {
      "name": "python3",
      "display_name": "Python 3"
    },
    "language_info": {
      "name": "python"
    }
  },
  "cells": [
    {
      "cell_type": "markdown",
      "metadata": {
        "id": "view-in-github",
        "colab_type": "text"
      },
      "source": [
        "<a href=\"https://colab.research.google.com/github/hicksteilchen/clone_brain/blob/main/Copy_of_brain_stl.ipynb\" target=\"_parent\"><img src=\"https://colab.research.google.com/assets/colab-badge.svg\" alt=\"Open In Colab\"/></a>"
      ]
    },
    {
      "cell_type": "markdown",
      "source": [
        "# Print your brain 🧠"
      ],
      "metadata": {
        "id": "IQRrxWbYIzdk"
      }
    },
    {
      "cell_type": "markdown",
      "source": [
        "## Introduction"
      ],
      "metadata": {
        "id": "I--4RkG9I1kT"
      }
    },
    {
      "cell_type": "markdown",
      "source": [
        "Cheers 🎉 By stumbling across this page you are only **~1 minute away** from downloading a **3D model of your brain** 🧠\n",
        "\n",
        "Besides ~1 minute of your time, there are the following **requirements**\n",
        "- **MRI scan of your head** (Often given to the patient via CD)\n",
        "  - No MRI scan available? Don't worry, the notebook will automatically use a publicly available MRI 🌐\n",
        "  - Motivated to get scanned? Google e.g. \"neuroimaging study YOUR_CITY\" and get scanned (+ help science 🤓)\n",
        "- One of the following options:\n",
        "  - **Google account** to run your copy of this Google Colab notebook ☁️\n",
        "  - **Python installed** on your PC to run the code without Colab 🖥️"
      ],
      "metadata": {
        "id": "m_CuDp5zI6DE"
      }
    },
    {
      "cell_type": "markdown",
      "source": [
        "## TL;DR"
      ],
      "metadata": {
        "id": "ALNkCEazJEVB"
      }
    },
    {
      "cell_type": "markdown",
      "source": [
        "Running a copy of this notebook (*File* -> *Save a copy in Drive*, *Runtime* -> *Run all*) results in a **`brain.stl` file** (folder icon on the left) 📁\n",
        "\n",
        "This file **can be printed** by e.g. [Shapeways](https://www.shapeways.com/) or your own 3D printer 🖨️\n",
        "\n",
        "It takes just a **few seconds** to input your own **MRI scan** to get a **3D model of YOUR brain** 🧠\n",
        "\n",
        "If you like this stuff, give [brain-stl](https://github.com/codingfisch/brain-stl) (+[deepmriprep](https://github.com/wwu-mmll/deepmriprep) and [niftiview](https://github.com/codingfisch/niftiview)) a star on GitHub ⭐"
      ],
      "metadata": {
        "id": "geB8VPZiJGt3"
      }
    },
    {
      "cell_type": "markdown",
      "source": [
        "![GIF](https://github.com/user-attachments/assets/64f10b4f-b136-4e86-8ef4-37f9fe0d8fa7)"
      ],
      "metadata": {
        "id": "3OQGMY-SXYfn"
      }
    },
    {
      "cell_type": "code",
      "source": [
        "# @title Installation\n",
        "#!apt install libcairo2-dev\n",
        "!pip install brain-stl"
      ],
      "metadata": {
        "id": "dMsm-5JlJ3sW"
      },
      "execution_count": null,
      "outputs": []
    },
    {
      "cell_type": "markdown",
      "source": [
        "## Run 🏃"
      ],
      "metadata": {
        "id": "y5kw74EVJ11i"
      }
    },
    {
      "cell_type": "markdown",
      "source": [
        "To input a MRI scan in your copy of this notebook (File -> Save a copy in Drive)\n",
        "- Click on the folder icon on the left 📁\n",
        "- Drag&drop the scan file/folder in there to **upload it** 📤\n",
        "- Change `scan_filepath`: Replace `None` with the name of the file/folder\n",
        "- (optional) Enable **faster processing** via *Runtime* -> *Change runtime type* -> *T4 GPU* 🔥\n",
        "- **Run** via *Runtime* -> *Run all* 🏃\n",
        "\n",
        "Wait ⏳\n",
        "\n",
        "- Click on the folder icon on the left (+ click 🔄 to refresh) to look for the **`brain.stl` file** 🧠\n",
        "- To download `brain.stl`, click on the three dots ⋮ located next to it 🏁"
      ],
      "metadata": {
        "id": "eKS9JlHDJ8wj"
      }
    },
    {
      "cell_type": "code",
      "source": [
        "# @title Run\n",
        "from brain_stl import run_brain_stl\n",
        "\n",
        "settings = {'threshold': 1.5,\n",
        "            'hollow': 0,\n",
        "            'in_template_space': False,\n",
        "            'mesh_reduction': 0.0,\n",
        "            'smooth_iter': 0,\n",
        "            'smooth_lamb': 0.2,\n",
        "            'use_cache': False,\n",
        "            'text': None,\n",
        "            'text2': None,\n",
        "            'textsize': 120}\n",
        "\n",
        "run_brain_stl(scan_filepath=None,  # e.g 'path/to/brain.nii.gz' or 'path/to/brain_folder'\n",
        "              nifti_name=None, # only used if scan_filepath is folder(=DICOM)\n",
        "              **settings);"
      ],
      "metadata": {
        "id": "yRr5cn_SMBXk"
      },
      "execution_count": null,
      "outputs": []
    },
    {
      "cell_type": "markdown",
      "source": [
        "## Extra tips"
      ],
      "metadata": {
        "id": "bJjbReuHNQDp"
      }
    },
    {
      "cell_type": "markdown",
      "source": [
        "### `use_cache` 💨"
      ],
      "metadata": {
        "id": "3FdwYwc5NRoR"
      }
    },
    {
      "cell_type": "markdown",
      "source": [
        "After the first run, `use_cache` can be set to `True` in the **Extra settings** for faster processing"
      ],
      "metadata": {
        "id": "7gAiLHz0NVoJ"
      }
    },
    {
      "cell_type": "markdown",
      "source": [
        "### Customize `brain.stl` 🖌️"
      ],
      "metadata": {
        "id": "Xq4h4HfxNX-l"
      }
    },
    {
      "cell_type": "markdown",
      "source": [
        "Read the [README](https://github.com/codingfisch/brain-stl) (+ask ChatGPT) to customize your brain model via the **settings**"
      ],
      "metadata": {
        "id": "ukF9Wc8gNYZt"
      }
    },
    {
      "cell_type": "markdown",
      "source": [
        "### View `brain.stl` 👀"
      ],
      "metadata": {
        "id": "M3VGYH6LNjFf"
      }
    },
    {
      "cell_type": "markdown",
      "source": [
        "Use https://f3d.app/web/ to view your `brain.stl`"
      ],
      "metadata": {
        "id": "EvAATe96NjCv"
      }
    },
    {
      "cell_type": "markdown",
      "source": [
        "### Fix DICOM error 🐛"
      ],
      "metadata": {
        "id": "FQ7hcCX7Ni_H"
      }
    },
    {
      "cell_type": "markdown",
      "source": [
        "**If you run into the error** `The inputted DICOM...resulted in...Nifti files...`\n",
        "- Click on the folder icon on the left 📁\n",
        "- Double-click on `pick_t1w_image.png`\n",
        "- Follow the instructions to pick the proper `nifti_name` and set it in **Setup**\n",
        "- **Run** via *Runtime* -> *Run all*"
      ],
      "metadata": {
        "id": "GxAHakiPNi4_"
      }
    },
    {
      "cell_type": "markdown",
      "source": [
        "### Create `brain.gif`"
      ],
      "metadata": {
        "id": "-lasWOtYNiw_"
      }
    },
    {
      "cell_type": "markdown",
      "source": [
        "To get a GIF of your `brain.stl`\n",
        "- Remove the # in the last line in the **GIF** code cell\n",
        "- Run the code cell\n",
        "\n",
        "**If you wanna show everyone what a brain you are, post your GIF with the hashtag `#brain-stl` on social media** 🤓"
      ],
      "metadata": {
        "id": "BtUFY8aQNuxU"
      }
    },
    {
      "cell_type": "code",
      "source": [
        "# @title Fix for weird Colab bug\n",
        "import locale\n",
        "locale.getpreferredencoding = lambda: 'UTF-8'"
      ],
      "metadata": {
        "cellView": "form",
        "id": "UGcAQpaIN1PS"
      },
      "execution_count": null,
      "outputs": []
    },
    {
      "cell_type": "code",
      "source": [
        "# @title Install pyrender\n",
        "!pip install pyrender"
      ],
      "metadata": {
        "cellView": "form",
        "id": "kjzJX0nCN2bS"
      },
      "execution_count": null,
      "outputs": []
    },
    {
      "cell_type": "code",
      "source": [
        "# @title GIF\n",
        "# Modified from https://github.com/codingfisch/brain-stl/blob/main/create_gif.py\n",
        "import os\n",
        "import trimesh\n",
        "import pyrender\n",
        "import numpy as np\n",
        "from tqdm import tqdm\n",
        "from PIL import Image\n",
        "from pathlib import Path\n",
        "os.environ['PYOPENGL_PLATFORM'] = 'egl'\n",
        "\n",
        "\n",
        "def save_brain_gif(stl_filepath, output_folder='.', gif_name='brain', fps=33, quality=90, **kwargs):\n",
        "    gif_filepath = f'{output_folder}/{gif_name}.gif'\n",
        "    mesh = trimesh.load_mesh(stl_filepath)\n",
        "    frames = get_gif_frames(mesh, **kwargs)\n",
        "    frames[0].save(gif_filepath, append_images=frames[1:], save_all=True, duration=int(1000 / fps), loop=0)\n",
        "\n",
        "\n",
        "def get_gif_frames(mesh, n=120, size=(480, 360), radius=190, fov=60, light=8, light_angle=(80, 80), bg_color=(0, 0, 0)):\n",
        "    camera_pose = np.array([[-1, 0, 0, 0], [0, 0, -1, -radius], [0, 1, 0, 0], [0, 0, 0, 1]])\n",
        "    light_pose = np.array([[1, 0, 0, light_angle[0]], [0, 1, 0, -radius], [0, 0, 1, light_angle[1]], [0, 0, 0, 1]])\n",
        "    scene = pyrender.Scene(bg_color=bg_color)\n",
        "    camera = pyrender.PerspectiveCamera(yfov=fov * np.pi / 180)\n",
        "    light = pyrender.PointLight(color=np.ones(3), intensity=light * 10000)\n",
        "    renderer = pyrender.OffscreenRenderer(viewport_width=size[0], viewport_height=size[1])\n",
        "    scene.add(camera, pose=camera_pose)\n",
        "    scene.add(light, pose=light_pose)\n",
        "    frames = []\n",
        "    for angle in tqdm(range(0, 360, 360 // n)):\n",
        "        pose = trimesh.transformations.rotation_matrix((angle + 180) * np.pi / 180, direction=[0, 0, 1])\n",
        "        scene.add(pyrender.Mesh.from_trimesh(mesh), pose=pose)\n",
        "        color, depth = renderer.render(scene)\n",
        "        frames.append(Image.fromarray(color))\n",
        "        scene.remove_node(list(scene.mesh_nodes)[0])\n",
        "    return frames\n",
        "\n",
        "\n",
        "save_brain_gif('brain.stl')"
      ],
      "metadata": {
        "cellView": "form",
        "id": "PpOLVDU6N68w"
      },
      "execution_count": null,
      "outputs": []
    }
  ]
}